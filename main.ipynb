{
 "cells": [
  {
   "cell_type": "code",
   "execution_count": 175,
   "id": "efa568e4-e6d5-40fc-8c34-7bcd8c4bcdf4",
   "metadata": {},
   "outputs": [],
   "source": [
    "import pandas as pd\n",
    "import seaborn as sns\n",
    "import numpy as np\n",
    "from sklearn.linear_model import LinearRegression\n",
    "from sklearn.model_selection import train_test_split"
   ]
  },
  {
   "cell_type": "code",
   "execution_count": 176,
   "id": "1a20e87c-9304-47e2-ab08-d57b59216dae",
   "metadata": {},
   "outputs": [],
   "source": [
    "#lettura file csv\n",
    "data = pd.read_csv(r\"C:\\Users\\Francesco Sartori\\Desktop\\Progetto_spazzatura\\spazzatura.csv\")"
   ]
  },
  {
   "cell_type": "code",
   "execution_count": 177,
   "id": "98048adc-c1cb-442c-adf2-09100a242c28",
   "metadata": {},
   "outputs": [
    {
     "data": {
      "text/html": [
       "<div>\n",
       "<style scoped>\n",
       "    .dataframe tbody tr th:only-of-type {\n",
       "        vertical-align: middle;\n",
       "    }\n",
       "\n",
       "    .dataframe tbody tr th {\n",
       "        vertical-align: top;\n",
       "    }\n",
       "\n",
       "    .dataframe thead th {\n",
       "        text-align: right;\n",
       "    }\n",
       "</style>\n",
       "<table border=\"1\" class=\"dataframe\">\n",
       "  <thead>\n",
       "    <tr style=\"text-align: right;\">\n",
       "      <th></th>\n",
       "      <th>tonnellate_rifiuti</th>\n",
       "      <th>n_ab_regione</th>\n",
       "      <th>Unnamed: 2</th>\n",
       "    </tr>\n",
       "  </thead>\n",
       "  <tbody>\n",
       "    <tr>\n",
       "      <th>0</th>\n",
       "      <td>1356</td>\n",
       "      <td>4424467</td>\n",
       "      <td>4424467</td>\n",
       "    </tr>\n",
       "    <tr>\n",
       "      <th>1</th>\n",
       "      <td>49</td>\n",
       "      <td>128298</td>\n",
       "      <td>128298</td>\n",
       "    </tr>\n",
       "    <tr>\n",
       "      <th>2</th>\n",
       "      <td>3489</td>\n",
       "      <td>10002615</td>\n",
       "      <td>10002615</td>\n",
       "    </tr>\n",
       "    <tr>\n",
       "      <th>3</th>\n",
       "      <td>400</td>\n",
       "      <td>1055934</td>\n",
       "      <td>1055934</td>\n",
       "    </tr>\n",
       "    <tr>\n",
       "      <th>4</th>\n",
       "      <td>181</td>\n",
       "      <td>518518</td>\n",
       "      <td>518518</td>\n",
       "    </tr>\n",
       "  </tbody>\n",
       "</table>\n",
       "</div>"
      ],
      "text/plain": [
       "   tonnellate_rifiuti  n_ab_regione  Unnamed: 2\n",
       "0                1356       4424467     4424467\n",
       "1                  49        128298      128298\n",
       "2                3489      10002615    10002615\n",
       "3                 400       1055934     1055934\n",
       "4                 181        518518      518518"
      ]
     },
     "execution_count": 177,
     "metadata": {},
     "output_type": "execute_result"
    }
   ],
   "source": [
    "data.head()\n"
   ]
  },
  {
   "cell_type": "code",
   "execution_count": 178,
   "id": "b44e1785-b8a0-47c0-a4ec-506f889f173d",
   "metadata": {},
   "outputs": [
    {
     "data": {
      "text/plain": [
       "tonnellate_rifiuti    0\n",
       "n_ab_regione          0\n",
       "Unnamed: 2            0\n",
       "dtype: int64"
      ]
     },
     "execution_count": 178,
     "metadata": {},
     "output_type": "execute_result"
    }
   ],
   "source": [
    "data.isnull().sum()"
   ]
  },
  {
   "cell_type": "code",
   "execution_count": 179,
   "id": "2c89fb60",
   "metadata": {},
   "outputs": [
    {
     "data": {
      "text/plain": [
       "<AxesSubplot:xlabel='tonnellate_rifiuti', ylabel='n_ab_regione'>"
      ]
     },
     "execution_count": 179,
     "metadata": {},
     "output_type": "execute_result"
    },
    {
     "data": {
      "image/png": "[encoded data removed]",
      "text/plain": [
       "<Figure size 432x288 with 1 Axes>"
      ]
     },
     "metadata": {
      "needs_background": "light"
     },
     "output_type": "display_data"
    }
   ],
   "source": [
    "#disegnare grafico tramite libreria seaborn\n",
    "sns.regplot(x='tonnellate_rifiuti', y='n_ab_regione', data=data)"
   ]
  },
  {
   "cell_type": "code",
   "execution_count": 180,
   "id": "57391f3c",
   "metadata": {},
   "outputs": [],
   "source": [
    "#specifica colonne per la parte di train e test\n",
    "train = data.drop(['tonnellate_rifiuti', 'n_ab_regione'], axis=1)\n",
    "test = data['tonnellate_rifiuti']\n"
   ]
  },
  {
   "cell_type": "code",
   "execution_count": 181,
   "id": "ab1573f8",
   "metadata": {},
   "outputs": [],
   "source": [
    "#split dell'array di train e test per effettuare successivamente l'addestramento\n",
    "x_train, x_test, y_train, y_test = train_test_split(train, test, test_size=0.8, random_state=2)"
   ]
  },
  {
   "cell_type": "code",
   "execution_count": 182,
   "id": "b7b1d0ed",
   "metadata": {},
   "outputs": [],
   "source": [
    "#funzione per la generazione della regressione lineare\n",
    "regr = LinearRegression()"
   ]
  },
  {
   "cell_type": "code",
   "execution_count": 183,
   "id": "8e0a16a5",
   "metadata": {},
   "outputs": [
    {
     "data": {
      "text/plain": [
       "LinearRegression()"
      ]
     },
     "execution_count": 183,
     "metadata": {},
     "output_type": "execute_result"
    }
   ],
   "source": [
    "#addestramento confrontando la variabile target con le altre variabili\n",
    "regr.fit(x_train, y_train)"
   ]
  },
  {
   "cell_type": "code",
   "execution_count": 184,
   "id": "d9682145",
   "metadata": {},
   "outputs": [
    {
     "data": {
      "text/plain": [
       "0.8399661463832855"
      ]
     },
     "execution_count": 184,
     "metadata": {},
     "output_type": "execute_result"
    }
   ],
   "source": [
    "#coefficiente di similarità tra i valori\n",
    "#pred = regr.predict(x_test)\n",
    "regr.score(x_test, y_test)"
   ]
  }
 ],
 "metadata": {
  "kernelspec": {
   "display_name": "Python 3 (ipykernel)",
   "language": "python",
   "name": "python3"
  },
  "language_info": {
   "codemirror_mode": {
    "name": "ipython",
    "version": 3
   },
   "file_extension": ".py",
   "mimetype": "text/x-python",
   "name": "python",
   "nbconvert_exporter": "python",
   "pygments_lexer": "ipython3",
   "version": "3.9.1"
  }
 },
 "nbformat": 4,
 "nbformat_minor": 5
}
